{
 "cells": [
  {
   "cell_type": "code",
   "execution_count": 1,
   "metadata": {},
   "outputs": [],
   "source": [
    "## Importer les librairies utilisees \n",
    "import pandas as pd \n",
    "import numpy as np\n",
    "from datetime import datetime\n",
    "from sklearn.preprocessing import StandardScaler\n",
    "from sklearn.model_selection import train_test_split\n",
    "import warnings\n",
    "warnings.filterwarnings('ignore')"
   ]
  },
  {
   "cell_type": "code",
   "execution_count": 2,
   "metadata": {},
   "outputs": [
    {
     "name": "stdout",
     "output_type": "stream",
     "text": [
      "<class 'pandas.core.frame.DataFrame'>\n",
      "RangeIndex: 50253 entries, 0 to 50252\n",
      "Data columns (total 13 columns):\n",
      " #   Column       Non-Null Count  Dtype         \n",
      "---  ------       --------------  -----         \n",
      " 0   NBRE         50213 non-null  float64       \n",
      " 1   MCR          50213 non-null  float64       \n",
      " 2   MDB          50213 non-null  float64       \n",
      " 3   VALEUR       50253 non-null  int64         \n",
      " 4   DATECPS      50253 non-null  datetime64[ns]\n",
      " 5   NUM          50253 non-null  int64         \n",
      " 6   MNT          49521 non-null  float64       \n",
      " 7   ID           50253 non-null  int64         \n",
      " 8   DNA          31752 non-null  object        \n",
      " 9   PROVISIONNE  21391 non-null  float64       \n",
      " 10  PROFESSION   41528 non-null  object        \n",
      " 11  LIBCCL       50236 non-null  object        \n",
      " 12  SORT         50253 non-null  object        \n",
      "dtypes: datetime64[ns](1), float64(5), int64(3), object(4)\n",
      "memory usage: 5.0+ MB\n"
     ]
    },
    {
     "data": {
      "text/html": [
       "<div>\n",
       "<style scoped>\n",
       "    .dataframe tbody tr th:only-of-type {\n",
       "        vertical-align: middle;\n",
       "    }\n",
       "\n",
       "    .dataframe tbody tr th {\n",
       "        vertical-align: top;\n",
       "    }\n",
       "\n",
       "    .dataframe thead th {\n",
       "        text-align: right;\n",
       "    }\n",
       "</style>\n",
       "<table border=\"1\" class=\"dataframe\">\n",
       "  <thead>\n",
       "    <tr style=\"text-align: right;\">\n",
       "      <th></th>\n",
       "      <th>NBRE</th>\n",
       "      <th>MCR</th>\n",
       "      <th>MDB</th>\n",
       "      <th>VALEUR</th>\n",
       "      <th>DATECPS</th>\n",
       "      <th>NUM</th>\n",
       "      <th>MNT</th>\n",
       "      <th>ID</th>\n",
       "      <th>PROVISIONNE</th>\n",
       "    </tr>\n",
       "  </thead>\n",
       "  <tbody>\n",
       "    <tr>\n",
       "      <th>count</th>\n",
       "      <td>50213.000000</td>\n",
       "      <td>5.021300e+04</td>\n",
       "      <td>5.021300e+04</td>\n",
       "      <td>50253.0</td>\n",
       "      <td>50253</td>\n",
       "      <td>5.025300e+04</td>\n",
       "      <td>4.952100e+04</td>\n",
       "      <td>5.025300e+04</td>\n",
       "      <td>21391.0</td>\n",
       "    </tr>\n",
       "    <tr>\n",
       "      <th>mean</th>\n",
       "      <td>312.347639</td>\n",
       "      <td>4.417925e+06</td>\n",
       "      <td>5.428699e+06</td>\n",
       "      <td>30.0</td>\n",
       "      <td>2024-12-15 07:52:26.104710144</td>\n",
       "      <td>6.497059e+06</td>\n",
       "      <td>3.437451e+04</td>\n",
       "      <td>3.877509e+06</td>\n",
       "      <td>1.0</td>\n",
       "    </tr>\n",
       "    <tr>\n",
       "      <th>min</th>\n",
       "      <td>13.000000</td>\n",
       "      <td>0.000000e+00</td>\n",
       "      <td>1.149248e+03</td>\n",
       "      <td>30.0</td>\n",
       "      <td>2024-10-01 00:00:00</td>\n",
       "      <td>1.900000e+01</td>\n",
       "      <td>6.000000e-02</td>\n",
       "      <td>3.690000e+02</td>\n",
       "      <td>1.0</td>\n",
       "    </tr>\n",
       "    <tr>\n",
       "      <th>25%</th>\n",
       "      <td>54.000000</td>\n",
       "      <td>4.646420e+04</td>\n",
       "      <td>4.560294e+04</td>\n",
       "      <td>30.0</td>\n",
       "      <td>2024-11-04 00:00:00</td>\n",
       "      <td>6.351813e+06</td>\n",
       "      <td>4.656000e+02</td>\n",
       "      <td>1.097830e+06</td>\n",
       "      <td>1.0</td>\n",
       "    </tr>\n",
       "    <tr>\n",
       "      <th>50%</th>\n",
       "      <td>69.000000</td>\n",
       "      <td>9.110710e+04</td>\n",
       "      <td>9.124224e+04</td>\n",
       "      <td>30.0</td>\n",
       "      <td>2024-12-09 00:00:00</td>\n",
       "      <td>6.733913e+06</td>\n",
       "      <td>2.754200e+03</td>\n",
       "      <td>4.590973e+06</td>\n",
       "      <td>1.0</td>\n",
       "    </tr>\n",
       "    <tr>\n",
       "      <th>75%</th>\n",
       "      <td>141.000000</td>\n",
       "      <td>2.786869e+05</td>\n",
       "      <td>2.827489e+05</td>\n",
       "      <td>30.0</td>\n",
       "      <td>2025-01-15 00:00:00</td>\n",
       "      <td>7.000649e+06</td>\n",
       "      <td>4.986700e+03</td>\n",
       "      <td>6.192783e+06</td>\n",
       "      <td>1.0</td>\n",
       "    </tr>\n",
       "    <tr>\n",
       "      <th>max</th>\n",
       "      <td>113018.000000</td>\n",
       "      <td>2.541437e+09</td>\n",
       "      <td>2.537465e+09</td>\n",
       "      <td>30.0</td>\n",
       "      <td>2025-04-25 00:00:00</td>\n",
       "      <td>7.995979e+06</td>\n",
       "      <td>4.600000e+07</td>\n",
       "      <td>6.988269e+06</td>\n",
       "      <td>1.0</td>\n",
       "    </tr>\n",
       "    <tr>\n",
       "      <th>std</th>\n",
       "      <td>2121.423428</td>\n",
       "      <td>4.998041e+07</td>\n",
       "      <td>5.267235e+07</td>\n",
       "      <td>0.0</td>\n",
       "      <td>NaN</td>\n",
       "      <td>9.812790e+05</td>\n",
       "      <td>7.290768e+05</td>\n",
       "      <td>2.477617e+06</td>\n",
       "      <td>0.0</td>\n",
       "    </tr>\n",
       "  </tbody>\n",
       "</table>\n",
       "</div>"
      ],
      "text/plain": [
       "                NBRE           MCR           MDB   VALEUR  \\\n",
       "count   50213.000000  5.021300e+04  5.021300e+04  50253.0   \n",
       "mean      312.347639  4.417925e+06  5.428699e+06     30.0   \n",
       "min        13.000000  0.000000e+00  1.149248e+03     30.0   \n",
       "25%        54.000000  4.646420e+04  4.560294e+04     30.0   \n",
       "50%        69.000000  9.110710e+04  9.124224e+04     30.0   \n",
       "75%       141.000000  2.786869e+05  2.827489e+05     30.0   \n",
       "max    113018.000000  2.541437e+09  2.537465e+09     30.0   \n",
       "std      2121.423428  4.998041e+07  5.267235e+07      0.0   \n",
       "\n",
       "                             DATECPS           NUM           MNT  \\\n",
       "count                          50253  5.025300e+04  4.952100e+04   \n",
       "mean   2024-12-15 07:52:26.104710144  6.497059e+06  3.437451e+04   \n",
       "min              2024-10-01 00:00:00  1.900000e+01  6.000000e-02   \n",
       "25%              2024-11-04 00:00:00  6.351813e+06  4.656000e+02   \n",
       "50%              2024-12-09 00:00:00  6.733913e+06  2.754200e+03   \n",
       "75%              2025-01-15 00:00:00  7.000649e+06  4.986700e+03   \n",
       "max              2025-04-25 00:00:00  7.995979e+06  4.600000e+07   \n",
       "std                              NaN  9.812790e+05  7.290768e+05   \n",
       "\n",
       "                 ID  PROVISIONNE  \n",
       "count  5.025300e+04      21391.0  \n",
       "mean   3.877509e+06          1.0  \n",
       "min    3.690000e+02          1.0  \n",
       "25%    1.097830e+06          1.0  \n",
       "50%    4.590973e+06          1.0  \n",
       "75%    6.192783e+06          1.0  \n",
       "max    6.988269e+06          1.0  \n",
       "std    2.477617e+06          0.0  "
      ]
     },
     "execution_count": 2,
     "metadata": {},
     "output_type": "execute_result"
    }
   ],
   "source": [
    "# Importer le dataset\n",
    "df = pd.read_excel(\"data\\cheque-overview.xls\")\n",
    "\n",
    "# Vérifier les premières lignes\n",
    "df.head()\n",
    "\n",
    "# Vérifier les informations sur le dataset\n",
    "df.info()\n",
    "\n",
    "# Vérifier les statistiques descriptives\n",
    "df.describe()\n"
   ]
  },
  {
   "cell_type": "code",
   "execution_count": 4,
   "metadata": {},
   "outputs": [],
   "source": [
    "# Vérification du type des colonnes\n",
    "df['MCR'] = df['MCR'].astype(str).str.replace(' ', '').str.replace(',', '.')\n",
    "df['MDB'] = df['MDB'].astype(str).str.replace(' ', '').str.replace(',', '.')\n",
    "df['MNT'] = df['MNT'].astype(str).str.replace(',', '.')\n",
    "\n",
    "# Conversion en float\n",
    "df['MCR'] = pd.to_numeric(df['MCR'], errors='coerce')\n",
    "df['MDB'] = pd.to_numeric(df['MDB'], errors='coerce')\n",
    "df['MNT'] = pd.to_numeric(df['MNT'], errors='coerce')\n",
    "\n",
    "# Calculer l'âge à partir de la date de naissance (DNA)\n",
    "df['DNA'] = pd.to_datetime(df['DNA'], errors='coerce')\n",
    "df['AGE'] = (pd.Timestamp.today() - df['DNA']).dt.days // 365"
   ]
  },
  {
   "cell_type": "code",
   "execution_count": null,
   "metadata": {},
   "outputs": [],
   "source": []
  },
  {
   "cell_type": "code",
   "execution_count": null,
   "metadata": {},
   "outputs": [],
   "source": [
    "# client_table = cheque_overview[[\"ID\",\"NBRE\", \"MCR\", \"MDB\"]]\n",
    "# client_table.shape\n",
    "# client_table.drop_duplicates(subset=\"ID\", inplace=True)\n",
    "# client_table.shape\n",
    "# client_table.to_excel(\"data/client_table.xlsx\", index=False)\n"
   ]
  },
  {
   "cell_type": "code",
   "execution_count": null,
   "metadata": {},
   "outputs": [],
   "source": [
    "\n"
   ]
  },
  {
   "cell_type": "code",
   "execution_count": null,
   "metadata": {},
   "outputs": [],
   "source": []
  },
  {
   "cell_type": "code",
   "execution_count": null,
   "metadata": {},
   "outputs": [],
   "source": []
  },
  {
   "cell_type": "code",
   "execution_count": null,
   "metadata": {},
   "outputs": [],
   "source": []
  },
  {
   "cell_type": "code",
   "execution_count": null,
   "metadata": {},
   "outputs": [],
   "source": []
  },
  {
   "cell_type": "code",
   "execution_count": null,
   "metadata": {},
   "outputs": [],
   "source": []
  },
  {
   "cell_type": "code",
   "execution_count": null,
   "metadata": {},
   "outputs": [],
   "source": []
  },
  {
   "cell_type": "code",
   "execution_count": null,
   "metadata": {},
   "outputs": [],
   "source": [
    "\n",
    "\n"
   ]
  },
  {
   "cell_type": "code",
   "execution_count": null,
   "metadata": {},
   "outputs": [],
   "source": []
  },
  {
   "cell_type": "code",
   "execution_count": null,
   "metadata": {},
   "outputs": [],
   "source": [
    "\n",
    "\n",
    "\n"
   ]
  },
  {
   "cell_type": "code",
   "execution_count": null,
   "metadata": {},
   "outputs": [],
   "source": []
  },
  {
   "cell_type": "code",
   "execution_count": null,
   "metadata": {},
   "outputs": [],
   "source": []
  },
  {
   "cell_type": "code",
   "execution_count": null,
   "metadata": {},
   "outputs": [],
   "source": []
  },
  {
   "cell_type": "code",
   "execution_count": null,
   "metadata": {},
   "outputs": [],
   "source": []
  },
  {
   "cell_type": "code",
   "execution_count": null,
   "metadata": {},
   "outputs": [],
   "source": []
  },
  {
   "cell_type": "code",
   "execution_count": null,
   "metadata": {},
   "outputs": [],
   "source": []
  },
  {
   "cell_type": "code",
   "execution_count": null,
   "metadata": {},
   "outputs": [],
   "source": []
  },
  {
   "cell_type": "code",
   "execution_count": null,
   "metadata": {},
   "outputs": [],
   "source": []
  },
  {
   "cell_type": "code",
   "execution_count": null,
   "metadata": {},
   "outputs": [],
   "source": []
  }
 ],
 "metadata": {
  "kernelspec": {
   "display_name": "Python 3",
   "language": "python",
   "name": "python3"
  },
  "language_info": {
   "codemirror_mode": {
    "name": "ipython",
    "version": 3
   },
   "file_extension": ".py",
   "mimetype": "text/x-python",
   "name": "python",
   "nbconvert_exporter": "python",
   "pygments_lexer": "ipython3",
   "version": "3.13.1"
  }
 },
 "nbformat": 4,
 "nbformat_minor": 2
}
