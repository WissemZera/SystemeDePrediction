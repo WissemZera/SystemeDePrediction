{
 "cells": [
  {
   "cell_type": "code",
   "execution_count": 1,
   "metadata": {},
   "outputs": [],
   "source": [
    "import pandas as pd  # pour la manipulation et l’analyse de données\n",
    "import numpy as np  # pour les opérations numériques\n",
    "from datetime import datetime  # pour manipuler les dates et heures\n",
    "\n",
    "from sklearn.preprocessing import LabelEncoder, StandardScaler\n",
    "from sklearn.model_selection import train_test_split  # pour diviser les données en train et test\n",
    "from sklearn.ensemble import RandomForestClassifier\n",
    "from sklearn.linear_model import LogisticRegression\n",
    "from sklearn.neighbors import KNeighborsClassifier\n",
    "# from xgboost import XGBClassifier\n",
    "from sklearn.metrics import confusion_matrix, classification_report, classification_report\n",
    "\n",
    "import warnings  # pour gérer les messages d'avertissement\n",
    "warnings.filterwarnings('ignore')  # ignorer les avertissements pour ne pas encombrer la sortie"
   ]
  },
  {
   "cell_type": "code",
   "execution_count": 2,
   "metadata": {},
   "outputs": [
    {
     "name": "stdout",
     "output_type": "stream",
     "text": [
      "WARNING *** OLE2 inconsistency: SSCS size is 0 but SSAT size is non-zero\n"
     ]
    }
   ],
   "source": [
    "# Importer le dataset\n",
    "\n",
    "df1 = pd.read_excel('data/données_chèque_stage.xls')\n",
    "df2 = pd.read_excel('data/données_LDC_stage.xls')"
   ]
  },
  {
   "cell_type": "code",
   "execution_count": 3,
   "metadata": {},
   "outputs": [
    {
     "name": "stdout",
     "output_type": "stream",
     "text": [
      "<class 'pandas.core.frame.DataFrame'>\n",
      "RangeIndex: 50253 entries, 0 to 50252\n",
      "Data columns (total 13 columns):\n",
      " #   Column       Non-Null Count  Dtype         \n",
      "---  ------       --------------  -----         \n",
      " 0   NBRE         50213 non-null  float64       \n",
      " 1   MCR          50213 non-null  float64       \n",
      " 2   MDB          50213 non-null  float64       \n",
      " 3   VALEUR       50253 non-null  int64         \n",
      " 4   DATECPS      50253 non-null  datetime64[ns]\n",
      " 5   NUM          50253 non-null  int64         \n",
      " 6   MNT          49521 non-null  float64       \n",
      " 7   ID           50253 non-null  int64         \n",
      " 8   DNA          31752 non-null  object        \n",
      " 9   PROVISIONNE  21391 non-null  float64       \n",
      " 10  PROFESSION   41528 non-null  object        \n",
      " 11  LIBCCL       50236 non-null  object        \n",
      " 12  SORT         50253 non-null  object        \n",
      "dtypes: datetime64[ns](1), float64(5), int64(3), object(4)\n",
      "memory usage: 5.0+ MB\n"
     ]
    },
    {
     "data": {
      "text/html": [
       "<div>\n",
       "<style scoped>\n",
       "    .dataframe tbody tr th:only-of-type {\n",
       "        vertical-align: middle;\n",
       "    }\n",
       "\n",
       "    .dataframe tbody tr th {\n",
       "        vertical-align: top;\n",
       "    }\n",
       "\n",
       "    .dataframe thead th {\n",
       "        text-align: right;\n",
       "    }\n",
       "</style>\n",
       "<table border=\"1\" class=\"dataframe\">\n",
       "  <thead>\n",
       "    <tr style=\"text-align: right;\">\n",
       "      <th></th>\n",
       "      <th>NBRE</th>\n",
       "      <th>MCR</th>\n",
       "      <th>MDB</th>\n",
       "      <th>VALEUR</th>\n",
       "      <th>DATECPS</th>\n",
       "      <th>NUM</th>\n",
       "      <th>MNT</th>\n",
       "      <th>ID</th>\n",
       "      <th>PROVISIONNE</th>\n",
       "    </tr>\n",
       "  </thead>\n",
       "  <tbody>\n",
       "    <tr>\n",
       "      <th>count</th>\n",
       "      <td>50213.000000</td>\n",
       "      <td>5.021300e+04</td>\n",
       "      <td>5.021300e+04</td>\n",
       "      <td>50253.0</td>\n",
       "      <td>50253</td>\n",
       "      <td>5.025300e+04</td>\n",
       "      <td>4.952100e+04</td>\n",
       "      <td>5.025300e+04</td>\n",
       "      <td>21391.0</td>\n",
       "    </tr>\n",
       "    <tr>\n",
       "      <th>mean</th>\n",
       "      <td>312.347639</td>\n",
       "      <td>4.417925e+06</td>\n",
       "      <td>5.428699e+06</td>\n",
       "      <td>30.0</td>\n",
       "      <td>2024-12-15 07:52:26.104710144</td>\n",
       "      <td>6.497059e+06</td>\n",
       "      <td>3.437451e+04</td>\n",
       "      <td>3.877509e+06</td>\n",
       "      <td>1.0</td>\n",
       "    </tr>\n",
       "    <tr>\n",
       "      <th>min</th>\n",
       "      <td>13.000000</td>\n",
       "      <td>0.000000e+00</td>\n",
       "      <td>1.149248e+03</td>\n",
       "      <td>30.0</td>\n",
       "      <td>2024-10-01 00:00:00</td>\n",
       "      <td>1.900000e+01</td>\n",
       "      <td>6.000000e-02</td>\n",
       "      <td>3.690000e+02</td>\n",
       "      <td>1.0</td>\n",
       "    </tr>\n",
       "    <tr>\n",
       "      <th>25%</th>\n",
       "      <td>54.000000</td>\n",
       "      <td>4.646420e+04</td>\n",
       "      <td>4.560294e+04</td>\n",
       "      <td>30.0</td>\n",
       "      <td>2024-11-04 00:00:00</td>\n",
       "      <td>6.351813e+06</td>\n",
       "      <td>4.656000e+02</td>\n",
       "      <td>1.097830e+06</td>\n",
       "      <td>1.0</td>\n",
       "    </tr>\n",
       "    <tr>\n",
       "      <th>50%</th>\n",
       "      <td>69.000000</td>\n",
       "      <td>9.110710e+04</td>\n",
       "      <td>9.124224e+04</td>\n",
       "      <td>30.0</td>\n",
       "      <td>2024-12-09 00:00:00</td>\n",
       "      <td>6.733913e+06</td>\n",
       "      <td>2.754200e+03</td>\n",
       "      <td>4.590973e+06</td>\n",
       "      <td>1.0</td>\n",
       "    </tr>\n",
       "    <tr>\n",
       "      <th>75%</th>\n",
       "      <td>141.000000</td>\n",
       "      <td>2.786869e+05</td>\n",
       "      <td>2.827489e+05</td>\n",
       "      <td>30.0</td>\n",
       "      <td>2025-01-15 00:00:00</td>\n",
       "      <td>7.000649e+06</td>\n",
       "      <td>4.986700e+03</td>\n",
       "      <td>6.192783e+06</td>\n",
       "      <td>1.0</td>\n",
       "    </tr>\n",
       "    <tr>\n",
       "      <th>max</th>\n",
       "      <td>113018.000000</td>\n",
       "      <td>2.541437e+09</td>\n",
       "      <td>2.537465e+09</td>\n",
       "      <td>30.0</td>\n",
       "      <td>2025-04-25 00:00:00</td>\n",
       "      <td>7.995979e+06</td>\n",
       "      <td>4.600000e+07</td>\n",
       "      <td>6.988269e+06</td>\n",
       "      <td>1.0</td>\n",
       "    </tr>\n",
       "    <tr>\n",
       "      <th>std</th>\n",
       "      <td>2121.423428</td>\n",
       "      <td>4.998041e+07</td>\n",
       "      <td>5.267235e+07</td>\n",
       "      <td>0.0</td>\n",
       "      <td>NaN</td>\n",
       "      <td>9.812790e+05</td>\n",
       "      <td>7.290768e+05</td>\n",
       "      <td>2.477617e+06</td>\n",
       "      <td>0.0</td>\n",
       "    </tr>\n",
       "  </tbody>\n",
       "</table>\n",
       "</div>"
      ],
      "text/plain": [
       "                NBRE           MCR           MDB   VALEUR  \\\n",
       "count   50213.000000  5.021300e+04  5.021300e+04  50253.0   \n",
       "mean      312.347639  4.417925e+06  5.428699e+06     30.0   \n",
       "min        13.000000  0.000000e+00  1.149248e+03     30.0   \n",
       "25%        54.000000  4.646420e+04  4.560294e+04     30.0   \n",
       "50%        69.000000  9.110710e+04  9.124224e+04     30.0   \n",
       "75%       141.000000  2.786869e+05  2.827489e+05     30.0   \n",
       "max    113018.000000  2.541437e+09  2.537465e+09     30.0   \n",
       "std      2121.423428  4.998041e+07  5.267235e+07      0.0   \n",
       "\n",
       "                             DATECPS           NUM           MNT  \\\n",
       "count                          50253  5.025300e+04  4.952100e+04   \n",
       "mean   2024-12-15 07:52:26.104710144  6.497059e+06  3.437451e+04   \n",
       "min              2024-10-01 00:00:00  1.900000e+01  6.000000e-02   \n",
       "25%              2024-11-04 00:00:00  6.351813e+06  4.656000e+02   \n",
       "50%              2024-12-09 00:00:00  6.733913e+06  2.754200e+03   \n",
       "75%              2025-01-15 00:00:00  7.000649e+06  4.986700e+03   \n",
       "max              2025-04-25 00:00:00  7.995979e+06  4.600000e+07   \n",
       "std                              NaN  9.812790e+05  7.290768e+05   \n",
       "\n",
       "                 ID  PROVISIONNE  \n",
       "count  5.025300e+04      21391.0  \n",
       "mean   3.877509e+06          1.0  \n",
       "min    3.690000e+02          1.0  \n",
       "25%    1.097830e+06          1.0  \n",
       "50%    4.590973e+06          1.0  \n",
       "75%    6.192783e+06          1.0  \n",
       "max    6.988269e+06          1.0  \n",
       "std    2.477617e+06          0.0  "
      ]
     },
     "execution_count": 3,
     "metadata": {},
     "output_type": "execute_result"
    }
   ],
   "source": [
    "# Vérifier les premières lignes\n",
    "df1.head()\n",
    "\n",
    "# Vérifier les informations sur le dataset\n",
    "df1.info()\n",
    "\n",
    "# Vérifier les statistiques descriptives\n",
    "df1.describe()"
   ]
  },
  {
   "cell_type": "code",
   "execution_count": 4,
   "metadata": {},
   "outputs": [
    {
     "name": "stdout",
     "output_type": "stream",
     "text": [
      "<class 'pandas.core.frame.DataFrame'>\n",
      "RangeIndex: 8927 entries, 0 to 8926\n",
      "Data columns (total 12 columns):\n",
      " #   Column      Non-Null Count  Dtype         \n",
      "---  ------      --------------  -----         \n",
      " 0   NBRE        8864 non-null   float64       \n",
      " 1   MCR         8864 non-null   float64       \n",
      " 2   MDB         8864 non-null   float64       \n",
      " 3   VALEUR      8927 non-null   int64         \n",
      " 4   DATECPS     8927 non-null   datetime64[ns]\n",
      " 5   NUM         0 non-null      float64       \n",
      " 6   MNT         8925 non-null   float64       \n",
      " 7   ID          8901 non-null   float64       \n",
      " 8   DNA         8540 non-null   datetime64[ns]\n",
      " 9   PROFESSION  8195 non-null   object        \n",
      " 10  LIBCCL      8858 non-null   object        \n",
      " 11  SORT        8927 non-null   object        \n",
      "dtypes: datetime64[ns](2), float64(6), int64(1), object(3)\n",
      "memory usage: 837.0+ KB\n"
     ]
    },
    {
     "data": {
      "text/html": [
       "<div>\n",
       "<style scoped>\n",
       "    .dataframe tbody tr th:only-of-type {\n",
       "        vertical-align: middle;\n",
       "    }\n",
       "\n",
       "    .dataframe tbody tr th {\n",
       "        vertical-align: top;\n",
       "    }\n",
       "\n",
       "    .dataframe thead th {\n",
       "        text-align: right;\n",
       "    }\n",
       "</style>\n",
       "<table border=\"1\" class=\"dataframe\">\n",
       "  <thead>\n",
       "    <tr style=\"text-align: right;\">\n",
       "      <th></th>\n",
       "      <th>NBRE</th>\n",
       "      <th>MCR</th>\n",
       "      <th>MDB</th>\n",
       "      <th>VALEUR</th>\n",
       "      <th>DATECPS</th>\n",
       "      <th>NUM</th>\n",
       "      <th>MNT</th>\n",
       "      <th>ID</th>\n",
       "      <th>DNA</th>\n",
       "    </tr>\n",
       "  </thead>\n",
       "  <tbody>\n",
       "    <tr>\n",
       "      <th>count</th>\n",
       "      <td>8864.000000</td>\n",
       "      <td>8.864000e+03</td>\n",
       "      <td>8.864000e+03</td>\n",
       "      <td>8927.000000</td>\n",
       "      <td>8927</td>\n",
       "      <td>0.0</td>\n",
       "      <td>8925.000000</td>\n",
       "      <td>8.901000e+03</td>\n",
       "      <td>8540</td>\n",
       "    </tr>\n",
       "    <tr>\n",
       "      <th>mean</th>\n",
       "      <td>43.807310</td>\n",
       "      <td>4.827420e+04</td>\n",
       "      <td>4.738282e+04</td>\n",
       "      <td>40.996863</td>\n",
       "      <td>2025-01-09 08:47:38.384675840</td>\n",
       "      <td>NaN</td>\n",
       "      <td>1569.842667</td>\n",
       "      <td>8.754051e+10</td>\n",
       "      <td>1979-04-19 18:56:21.217798656</td>\n",
       "    </tr>\n",
       "    <tr>\n",
       "      <th>min</th>\n",
       "      <td>1.000000</td>\n",
       "      <td>0.000000e+00</td>\n",
       "      <td>0.000000e+00</td>\n",
       "      <td>40.000000</td>\n",
       "      <td>2024-10-01 00:00:00</td>\n",
       "      <td>NaN</td>\n",
       "      <td>24.500000</td>\n",
       "      <td>3.690000e+02</td>\n",
       "      <td>1900-06-20 00:00:00</td>\n",
       "    </tr>\n",
       "    <tr>\n",
       "      <th>25%</th>\n",
       "      <td>19.000000</td>\n",
       "      <td>5.423027e+03</td>\n",
       "      <td>5.247775e+03</td>\n",
       "      <td>41.000000</td>\n",
       "      <td>2024-12-02 00:00:00</td>\n",
       "      <td>NaN</td>\n",
       "      <td>90.700000</td>\n",
       "      <td>1.858184e+06</td>\n",
       "      <td>1970-11-18 00:00:00</td>\n",
       "    </tr>\n",
       "    <tr>\n",
       "      <th>50%</th>\n",
       "      <td>27.000000</td>\n",
       "      <td>9.717702e+03</td>\n",
       "      <td>8.963404e+03</td>\n",
       "      <td>41.000000</td>\n",
       "      <td>2025-01-16 00:00:00</td>\n",
       "      <td>NaN</td>\n",
       "      <td>143.430000</td>\n",
       "      <td>3.922730e+06</td>\n",
       "      <td>1980-11-02 00:00:00</td>\n",
       "    </tr>\n",
       "    <tr>\n",
       "      <th>75%</th>\n",
       "      <td>47.000000</td>\n",
       "      <td>1.282768e+04</td>\n",
       "      <td>1.309075e+04</td>\n",
       "      <td>41.000000</td>\n",
       "      <td>2025-02-28 00:00:00</td>\n",
       "      <td>NaN</td>\n",
       "      <td>500.000000</td>\n",
       "      <td>5.833789e+06</td>\n",
       "      <td>1987-07-06 12:00:00</td>\n",
       "    </tr>\n",
       "    <tr>\n",
       "      <th>max</th>\n",
       "      <td>1057.000000</td>\n",
       "      <td>4.486243e+06</td>\n",
       "      <td>4.458645e+06</td>\n",
       "      <td>41.000000</td>\n",
       "      <td>2025-03-28 00:00:00</td>\n",
       "      <td>NaN</td>\n",
       "      <td>75000.000000</td>\n",
       "      <td>1.881328e+13</td>\n",
       "      <td>2004-11-16 00:00:00</td>\n",
       "    </tr>\n",
       "    <tr>\n",
       "      <th>std</th>\n",
       "      <td>77.377669</td>\n",
       "      <td>3.178323e+05</td>\n",
       "      <td>3.150377e+05</td>\n",
       "      <td>0.055920</td>\n",
       "      <td>NaN</td>\n",
       "      <td>NaN</td>\n",
       "      <td>4883.869200</td>\n",
       "      <td>1.274948e+12</td>\n",
       "      <td>NaN</td>\n",
       "    </tr>\n",
       "  </tbody>\n",
       "</table>\n",
       "</div>"
      ],
      "text/plain": [
       "              NBRE           MCR           MDB       VALEUR  \\\n",
       "count  8864.000000  8.864000e+03  8.864000e+03  8927.000000   \n",
       "mean     43.807310  4.827420e+04  4.738282e+04    40.996863   \n",
       "min       1.000000  0.000000e+00  0.000000e+00    40.000000   \n",
       "25%      19.000000  5.423027e+03  5.247775e+03    41.000000   \n",
       "50%      27.000000  9.717702e+03  8.963404e+03    41.000000   \n",
       "75%      47.000000  1.282768e+04  1.309075e+04    41.000000   \n",
       "max    1057.000000  4.486243e+06  4.458645e+06    41.000000   \n",
       "std      77.377669  3.178323e+05  3.150377e+05     0.055920   \n",
       "\n",
       "                             DATECPS  NUM           MNT            ID  \\\n",
       "count                           8927  0.0   8925.000000  8.901000e+03   \n",
       "mean   2025-01-09 08:47:38.384675840  NaN   1569.842667  8.754051e+10   \n",
       "min              2024-10-01 00:00:00  NaN     24.500000  3.690000e+02   \n",
       "25%              2024-12-02 00:00:00  NaN     90.700000  1.858184e+06   \n",
       "50%              2025-01-16 00:00:00  NaN    143.430000  3.922730e+06   \n",
       "75%              2025-02-28 00:00:00  NaN    500.000000  5.833789e+06   \n",
       "max              2025-03-28 00:00:00  NaN  75000.000000  1.881328e+13   \n",
       "std                              NaN  NaN   4883.869200  1.274948e+12   \n",
       "\n",
       "                                 DNA  \n",
       "count                           8540  \n",
       "mean   1979-04-19 18:56:21.217798656  \n",
       "min              1900-06-20 00:00:00  \n",
       "25%              1970-11-18 00:00:00  \n",
       "50%              1980-11-02 00:00:00  \n",
       "75%              1987-07-06 12:00:00  \n",
       "max              2004-11-16 00:00:00  \n",
       "std                              NaN  "
      ]
     },
     "execution_count": 4,
     "metadata": {},
     "output_type": "execute_result"
    }
   ],
   "source": [
    "# Vérifier les premières lignes\n",
    "df2.head()\n",
    "\n",
    "# Vérifier les informations sur le dataset\n",
    "df2.info()\n",
    "\n",
    "# Vérifier les statistiques descriptives\n",
    "df2.describe()"
   ]
  },
  {
   "cell_type": "code",
   "execution_count": 5,
   "metadata": {},
   "outputs": [
    {
     "data": {
      "text/plain": [
       "NBRE              40\n",
       "MCR               40\n",
       "MDB               40\n",
       "VALEUR             0\n",
       "DATECPS            0\n",
       "NUM                0\n",
       "MNT              732\n",
       "ID                 0\n",
       "DNA            18501\n",
       "PROVISIONNE        0\n",
       "PROFESSION         0\n",
       "LIBCCL            17\n",
       "SORT               0\n",
       "dtype: int64"
      ]
     },
     "execution_count": 5,
     "metadata": {},
     "output_type": "execute_result"
    }
   ],
   "source": [
    "# Remplacer NaN dans la colonne PROVISIONNE par 0\n",
    "df1['PROVISIONNE'] = df1['PROVISIONNE'].fillna(0).astype(int)\n",
    "\n",
    "# Remplacer NaN dans la colonne PROFESSION par AUTRE PROFESSION\n",
    "df1['PROFESSION'] = df1['PROFESSION'].fillna('AUTRE PROFESSION')\n",
    "df1.isna().sum()"
   ]
  },
  {
   "cell_type": "code",
   "execution_count": 6,
   "metadata": {},
   "outputs": [],
   "source": [
    "# Vérification du type des colonnes\n",
    "df1['MCR'] = df1['MCR'].astype(str).str.replace(' ', '').str.replace(',', '.')\n",
    "df1['MDB'] = df1['MDB'].astype(str).str.replace(' ', '').str.replace(',', '.')\n",
    "df1['MNT'] = df1['MNT'].astype(str).str.replace(',', '.')\n",
    "\n",
    "# Conversion en float\n",
    "df1['MCR'] = pd.to_numeric(df1['MCR'], errors='coerce')\n",
    "df1['MDB'] = pd.to_numeric(df1['MDB'], errors='coerce')\n",
    "df1['MNT'] = pd.to_numeric(df1['MNT'], errors='coerce')\n",
    "\n",
    "# Calculer l'âge à partir de la date de naissance (DNA)\n",
    "df1['DNA'] = pd.to_datetime(df1['DNA'], errors='coerce')\n",
    "df1['AGE'] = (pd.Timestamp.today() - df1['DNA']).dt.days // 365"
   ]
  },
  {
   "cell_type": "code",
   "execution_count": 8,
   "metadata": {},
   "outputs": [
    {
     "data": {
      "text/plain": [
       "NBRE              40\n",
       "MCR               40\n",
       "MDB               40\n",
       "VALEUR             0\n",
       "DATECPS            0\n",
       "NUM                0\n",
       "MNT              732\n",
       "ID                 0\n",
       "DNA            18501\n",
       "PROVISIONNE        0\n",
       "PROFESSION         0\n",
       "LIBCCL             0\n",
       "SORT               0\n",
       "AGE            18501\n",
       "dtype: int64"
      ]
     },
     "execution_count": 8,
     "metadata": {},
     "output_type": "execute_result"
    }
   ],
   "source": [
    "# Remplacer NaN dans la colonne LIBCCL par Personne physique (la meme personne)\n",
    "df1['LIBCCL'] = df1['LIBCCL'].fillna('Personne physique')\n",
    "df1.isna().sum()"
   ]
  },
  {
   "cell_type": "code",
   "execution_count": 9,
   "metadata": {},
   "outputs": [],
   "source": [
    "# Encodage des variables catégorielles (PROFESSION, LIBCCL)\n",
    "le_profession = LabelEncoder()  # Création de l'encodeur\n",
    "df1['le_PROFESSION'] = le_profession.fit_transform(df1['PROFESSION'].fillna(''))\n",
    "\n",
    "le_libccl = LabelEncoder()  # Création de l'encodeur pour LIBCCL\n",
    "df1['le_LIBCCL'] = le_libccl.fit_transform(df1['LIBCCL'].fillna(''))\n",
    "\n",
    "# Encoder la variable cible 'SORT'\n",
    "df1['SORT'] = df1['SORT'].map({'P': 0, 'CNP': 1, 'AUTRE REJET': 1, 'PREAVIS': 1})"
   ]
  },
  {
   "cell_type": "code",
   "execution_count": 11,
   "metadata": {},
   "outputs": [
    {
     "name": "stdout",
     "output_type": "stream",
     "text": [
      "Skewness of numeric columns:\n",
      "NBRE             37.795877\n",
      "MCR              42.440214\n",
      "MDB              36.599130\n",
      "VALEUR            0.000000\n",
      "NUM              -2.963965\n",
      "MNT              45.414844\n",
      "ID               -0.304458\n",
      "PROVISIONNE       0.300686\n",
      "SORT              8.941069\n",
      "AGE               0.318643\n",
      "le_PROFESSION     7.857655\n",
      "le_LIBCCL        -1.441373\n",
      "dtype: float64\n"
     ]
    }
   ],
   "source": [
    "# Select only numeric columns\n",
    "numeric_cols = df1.select_dtypes(include=['number']).columns\n",
    "\n",
    "# Compute skewness only on numeric columns\n",
    "skew_values = df1[numeric_cols].skew()\n",
    "\n",
    "print(\"Skewness of numeric columns:\")\n",
    "print(skew_values)\n"
   ]
  },
  {
   "cell_type": "code",
   "execution_count": 12,
   "metadata": {},
   "outputs": [
    {
     "name": "stdout",
     "output_type": "stream",
     "text": [
      "NBRE: Filled NaN with median (high skew)\n",
      "MCR: Filled NaN with median (high skew)\n",
      "MDB: Filled NaN with median (high skew)\n",
      "MNT: Filled NaN with median (high skew)\n",
      "SORT: Filled NaN with median (high skew)\n",
      "le_PROFESSION: Filled NaN with median (high skew)\n",
      "le_LIBCCL: Filled NaN with median (high skew)\n",
      "NUM: Filled NaN with median (high skew)\n",
      "VALEUR: Filled NaN with mean (low skew)\n",
      "ID: Filled NaN with mean (low skew)\n",
      "PROVISIONNE: Filled NaN with mean (low skew)\n",
      "AGE: Filled NaN with mean (low skew)\n"
     ]
    }
   ],
   "source": [
    "# Manual list from your skewness output\n",
    "median_cols = ['NBRE', 'MCR', 'MDB', 'MNT', 'SORT', 'le_PROFESSION', 'le_LIBCCL', 'NUM']\n",
    "mean_cols = ['VALEUR', 'ID', 'PROVISIONNE', 'AGE']\n",
    "\n",
    "# Impute using median for skewed columns\n",
    "for col in median_cols:\n",
    "    df1[col] = df1[col].fillna(df1[col].median())\n",
    "    print(f\"{col}: Filled NaN with median (high skew)\")\n",
    "\n",
    "# Impute using mean for relatively normal columns\n",
    "for col in mean_cols:\n",
    "    df1[col] = df1[col].fillna(df1[col].mean())\n",
    "    print(f\"{col}: Filled NaN with mean (low skew)\")\n"
   ]
  },
  {
   "cell_type": "code",
   "execution_count": null,
   "metadata": {},
   "outputs": [],
   "source": [
    "# Sélectionner les variables explicatives (X) et la cible (y)\n",
    "X = df1[['NBRE', 'MCR', 'MDB', 'VALEUR', 'MNT', 'AGE', 'PROVISIONNE', 'le_PROFESSION', 'le_LIBCCL']]\n",
    "y = df1['SORT']"
   ]
  },
  {
   "cell_type": "code",
   "execution_count": null,
   "metadata": {},
   "outputs": [],
   "source": []
  },
  {
   "cell_type": "code",
   "execution_count": null,
   "metadata": {},
   "outputs": [],
   "source": [
    "# Diviser les données en ensemble d'entraînement et de test, en stratifiant pour équilibrer les classes\n",
    "X_train, X_test, y_train, y_test = train_test_split(X, y, test_size=0.3, random_state=42, stratify=y)"
   ]
  },
  {
   "cell_type": "code",
   "execution_count": null,
   "metadata": {},
   "outputs": [],
   "source": [
    "# client_table = cheque_overview[[\"ID\",\"NBRE\", \"MCR\", \"MDB\", \"AGE\", \"PROFESSION\", \"LIBCCL\"]]\n",
    "# client_table.drop_duplicates(subset=\"ID\", inplace=True)\n",
    "# client_table.shape\n",
    "\n",
    "# client_table.to_excel(\"data/client_table.xlsx\", index=False)\n"
   ]
  },
  {
   "cell_type": "code",
   "execution_count": null,
   "metadata": {},
   "outputs": [],
   "source": [
    "\n"
   ]
  },
  {
   "cell_type": "code",
   "execution_count": null,
   "metadata": {},
   "outputs": [],
   "source": []
  },
  {
   "cell_type": "code",
   "execution_count": null,
   "metadata": {},
   "outputs": [],
   "source": []
  },
  {
   "cell_type": "code",
   "execution_count": null,
   "metadata": {},
   "outputs": [],
   "source": []
  },
  {
   "cell_type": "code",
   "execution_count": null,
   "metadata": {},
   "outputs": [],
   "source": []
  },
  {
   "cell_type": "code",
   "execution_count": null,
   "metadata": {},
   "outputs": [],
   "source": []
  },
  {
   "cell_type": "code",
   "execution_count": null,
   "metadata": {},
   "outputs": [],
   "source": []
  },
  {
   "cell_type": "code",
   "execution_count": null,
   "metadata": {},
   "outputs": [],
   "source": [
    "\n",
    "\n"
   ]
  },
  {
   "cell_type": "code",
   "execution_count": null,
   "metadata": {},
   "outputs": [],
   "source": []
  },
  {
   "cell_type": "code",
   "execution_count": null,
   "metadata": {},
   "outputs": [],
   "source": [
    "\n",
    "\n",
    "\n"
   ]
  },
  {
   "cell_type": "code",
   "execution_count": null,
   "metadata": {},
   "outputs": [],
   "source": []
  },
  {
   "cell_type": "code",
   "execution_count": null,
   "metadata": {},
   "outputs": [],
   "source": []
  },
  {
   "cell_type": "code",
   "execution_count": null,
   "metadata": {},
   "outputs": [],
   "source": []
  },
  {
   "cell_type": "code",
   "execution_count": null,
   "metadata": {},
   "outputs": [],
   "source": []
  },
  {
   "cell_type": "code",
   "execution_count": null,
   "metadata": {},
   "outputs": [],
   "source": []
  },
  {
   "cell_type": "code",
   "execution_count": null,
   "metadata": {},
   "outputs": [],
   "source": []
  },
  {
   "cell_type": "code",
   "execution_count": null,
   "metadata": {},
   "outputs": [],
   "source": []
  },
  {
   "cell_type": "code",
   "execution_count": null,
   "metadata": {},
   "outputs": [],
   "source": []
  },
  {
   "cell_type": "code",
   "execution_count": null,
   "metadata": {},
   "outputs": [],
   "source": []
  }
 ],
 "metadata": {
  "kernelspec": {
   "display_name": "base",
   "language": "python",
   "name": "python3"
  },
  "language_info": {
   "codemirror_mode": {
    "name": "ipython",
    "version": 3
   },
   "file_extension": ".py",
   "mimetype": "text/x-python",
   "name": "python",
   "nbconvert_exporter": "python",
   "pygments_lexer": "ipython3",
   "version": "3.12.7"
  }
 },
 "nbformat": 4,
 "nbformat_minor": 2
}
